{
 "cells": [
  {
   "cell_type": "code",
   "execution_count": 1,
   "id": "ac30d429",
   "metadata": {},
   "outputs": [
    {
     "data": {
      "text/plain": [
       "' yes python standard library included with pylnputplus , it the model taking inputs with validation features\\nit asks the user for text until they enter a valid input'"
      ]
     },
     "execution_count": 1,
     "metadata": {},
     "output_type": "execute_result"
    }
   ],
   "source": [
    "#Q1\n",
    "''' yes python standard library included with pylnputplus ,the model taking inputs with validation features\n",
    "it asks the user for text until they enter a valid input'''"
   ]
  },
  {
   "cell_type": "code",
   "execution_count": 2,
   "id": "b7a69103",
   "metadata": {},
   "outputs": [
    {
     "data": {
      "text/plain": [
       "'pyinputplus commonly imported with import pyinputplus as pypi so that we can enter a short name whenever calling module function'"
      ]
     },
     "execution_count": 2,
     "metadata": {},
     "output_type": "execute_result"
    }
   ],
   "source": [
    "#Q2\n",
    "\"\"\"pyinputplus commonly imported with import pyinputplus as pypi so that we can enter a short name whenever calling module function\"\"\""
   ]
  },
  {
   "cell_type": "code",
   "execution_count": 3,
   "id": "67841802",
   "metadata": {},
   "outputs": [
    {
     "data": {
      "text/plain": [
       "'inputint() takes the integer values and \\ninputFloat() takes the floating point values'"
      ]
     },
     "execution_count": 3,
     "metadata": {},
     "output_type": "execute_result"
    }
   ],
   "source": [
    "#Q3\n",
    "\"\"\"inputint() takes the integer values and \n",
    "inputFloat() takes the floating point values\"\"\""
   ]
  },
  {
   "cell_type": "code",
   "execution_count": 23,
   "id": "844a54e6",
   "metadata": {},
   "outputs": [
    {
     "data": {
      "text/plain": [
       "'by using pypi.inputInt(min=0,lessThan=99)'"
      ]
     },
     "execution_count": 23,
     "metadata": {},
     "output_type": "execute_result"
    }
   ],
   "source": [
    "#Q4\n",
    "'''by using pypi.inputInt(min=0,lessThan=99)'''"
   ]
  },
  {
   "cell_type": "code",
   "execution_count": 14,
   "id": "6b2c56bb",
   "metadata": {},
   "outputs": [
    {
     "data": {
      "text/plain": [
       "'The allowregexes and blockregexes takes a list of regular expression strings to determine what the PyinputPlus function will accept or reject as input.'"
      ]
     },
     "execution_count": 14,
     "metadata": {},
     "output_type": "execute_result"
    }
   ],
   "source": [
    "#Q5\n",
    "'''The allowregexes and blockregexes takes a list of regular expression strings to determine what the PyinputPlus function will accept or reject as input.'''"
   ]
  },
  {
   "cell_type": "code",
   "execution_count": 15,
   "id": "32705f8e",
   "metadata": {},
   "outputs": [
    {
     "data": {
      "text/plain": [
       "'if a blank input is entered 3 times, the inputStr(limit=3) raises an RetryLimitException'"
      ]
     },
     "execution_count": 15,
     "metadata": {},
     "output_type": "execute_result"
    }
   ],
   "source": [
    "#Q6\n",
    "'''if a blank input is entered 3 times, the inputStr(limit=3) raises an RetryLimitException'''"
   ]
  },
  {
   "cell_type": "code",
   "execution_count": 16,
   "id": "0ba05641",
   "metadata": {},
   "outputs": [
    {
     "data": {
      "text/plain": [
       "'the function returns the default value instead of raising an exception'"
      ]
     },
     "execution_count": 16,
     "metadata": {},
     "output_type": "execute_result"
    }
   ],
   "source": [
    "#Q7\n",
    "'''the function returns the default value instead of raising an exception'''"
   ]
  },
  {
   "cell_type": "code",
   "execution_count": null,
   "id": "cabb5633",
   "metadata": {},
   "outputs": [],
   "source": []
  }
 ],
 "metadata": {
  "kernelspec": {
   "display_name": "Python 3",
   "language": "python",
   "name": "python3"
  },
  "language_info": {
   "codemirror_mode": {
    "name": "ipython",
    "version": 3
   },
   "file_extension": ".py",
   "mimetype": "text/x-python",
   "name": "python",
   "nbconvert_exporter": "python",
   "pygments_lexer": "ipython3",
   "version": "3.8.8"
  }
 },
 "nbformat": 4,
 "nbformat_minor": 5
}
